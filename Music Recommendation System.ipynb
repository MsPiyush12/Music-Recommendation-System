{
 "cells": [
  {
   "cell_type": "code",
   "execution_count": 4,
   "id": "2b525be2",
   "metadata": {},
   "outputs": [],
   "source": [
    "import numpy as np\n",
    "import pandas as pd"
   ]
  },
  {
   "cell_type": "code",
   "execution_count": 5,
   "id": "9f305734",
   "metadata": {},
   "outputs": [],
   "source": [
    "df=pd.read_csv('songdata.csv')"
   ]
  },
  {
   "cell_type": "code",
   "execution_count": 6,
   "id": "a229239a",
   "metadata": {},
   "outputs": [
    {
     "data": {
      "text/html": [
       "<div>\n",
       "<style scoped>\n",
       "    .dataframe tbody tr th:only-of-type {\n",
       "        vertical-align: middle;\n",
       "    }\n",
       "\n",
       "    .dataframe tbody tr th {\n",
       "        vertical-align: top;\n",
       "    }\n",
       "\n",
       "    .dataframe thead th {\n",
       "        text-align: right;\n",
       "    }\n",
       "</style>\n",
       "<table border=\"1\" class=\"dataframe\">\n",
       "  <thead>\n",
       "    <tr style=\"text-align: right;\">\n",
       "      <th></th>\n",
       "      <th>artist</th>\n",
       "      <th>song</th>\n",
       "      <th>link</th>\n",
       "      <th>text</th>\n",
       "    </tr>\n",
       "  </thead>\n",
       "  <tbody>\n",
       "    <tr>\n",
       "      <th>0</th>\n",
       "      <td>ABBA</td>\n",
       "      <td>Ahe's My Kind Of Girl</td>\n",
       "      <td>/a/abba/ahes+my+kind+of+girl_20598417.html</td>\n",
       "      <td>Look at her face, it's a wonderful face  \\nAnd...</td>\n",
       "    </tr>\n",
       "    <tr>\n",
       "      <th>1</th>\n",
       "      <td>ABBA</td>\n",
       "      <td>Andante, Andante</td>\n",
       "      <td>/a/abba/andante+andante_20002708.html</td>\n",
       "      <td>Take it easy with me, please  \\nTouch me gentl...</td>\n",
       "    </tr>\n",
       "    <tr>\n",
       "      <th>2</th>\n",
       "      <td>ABBA</td>\n",
       "      <td>As Good As New</td>\n",
       "      <td>/a/abba/as+good+as+new_20003033.html</td>\n",
       "      <td>I'll never know why I had to go  \\nWhy I had t...</td>\n",
       "    </tr>\n",
       "    <tr>\n",
       "      <th>3</th>\n",
       "      <td>ABBA</td>\n",
       "      <td>Bang</td>\n",
       "      <td>/a/abba/bang_20598415.html</td>\n",
       "      <td>Making somebody happy is a question of give an...</td>\n",
       "    </tr>\n",
       "    <tr>\n",
       "      <th>4</th>\n",
       "      <td>ABBA</td>\n",
       "      <td>Bang-A-Boomerang</td>\n",
       "      <td>/a/abba/bang+a+boomerang_20002668.html</td>\n",
       "      <td>Making somebody happy is a question of give an...</td>\n",
       "    </tr>\n",
       "    <tr>\n",
       "      <th>5</th>\n",
       "      <td>ABBA</td>\n",
       "      <td>Burning My Bridges</td>\n",
       "      <td>/a/abba/burning+my+bridges_20003011.html</td>\n",
       "      <td>Well, you hoot and you holler and you make me ...</td>\n",
       "    </tr>\n",
       "    <tr>\n",
       "      <th>6</th>\n",
       "      <td>ABBA</td>\n",
       "      <td>Cassandra</td>\n",
       "      <td>/a/abba/cassandra_20002811.html</td>\n",
       "      <td>Down in the street they're all singing and sho...</td>\n",
       "    </tr>\n",
       "    <tr>\n",
       "      <th>7</th>\n",
       "      <td>ABBA</td>\n",
       "      <td>Chiquitita</td>\n",
       "      <td>/a/abba/chiquitita_20002978.html</td>\n",
       "      <td>Chiquitita, tell me what's wrong  \\nYou're enc...</td>\n",
       "    </tr>\n",
       "    <tr>\n",
       "      <th>8</th>\n",
       "      <td>ABBA</td>\n",
       "      <td>Crazy World</td>\n",
       "      <td>/a/abba/crazy+world_20003013.html</td>\n",
       "      <td>I was out with the morning sun  \\nCouldn't sle...</td>\n",
       "    </tr>\n",
       "    <tr>\n",
       "      <th>9</th>\n",
       "      <td>ABBA</td>\n",
       "      <td>Crying Over You</td>\n",
       "      <td>/a/abba/crying+over+you_20177611.html</td>\n",
       "      <td>I'm waitin' for you baby  \\nI'm sitting all al...</td>\n",
       "    </tr>\n",
       "  </tbody>\n",
       "</table>\n",
       "</div>"
      ],
      "text/plain": [
       "  artist                   song                                        link  \\\n",
       "0   ABBA  Ahe's My Kind Of Girl  /a/abba/ahes+my+kind+of+girl_20598417.html   \n",
       "1   ABBA       Andante, Andante       /a/abba/andante+andante_20002708.html   \n",
       "2   ABBA         As Good As New        /a/abba/as+good+as+new_20003033.html   \n",
       "3   ABBA                   Bang                  /a/abba/bang_20598415.html   \n",
       "4   ABBA       Bang-A-Boomerang      /a/abba/bang+a+boomerang_20002668.html   \n",
       "5   ABBA     Burning My Bridges    /a/abba/burning+my+bridges_20003011.html   \n",
       "6   ABBA              Cassandra             /a/abba/cassandra_20002811.html   \n",
       "7   ABBA             Chiquitita            /a/abba/chiquitita_20002978.html   \n",
       "8   ABBA            Crazy World           /a/abba/crazy+world_20003013.html   \n",
       "9   ABBA        Crying Over You       /a/abba/crying+over+you_20177611.html   \n",
       "\n",
       "                                                text  \n",
       "0  Look at her face, it's a wonderful face  \\nAnd...  \n",
       "1  Take it easy with me, please  \\nTouch me gentl...  \n",
       "2  I'll never know why I had to go  \\nWhy I had t...  \n",
       "3  Making somebody happy is a question of give an...  \n",
       "4  Making somebody happy is a question of give an...  \n",
       "5  Well, you hoot and you holler and you make me ...  \n",
       "6  Down in the street they're all singing and sho...  \n",
       "7  Chiquitita, tell me what's wrong  \\nYou're enc...  \n",
       "8  I was out with the morning sun  \\nCouldn't sle...  \n",
       "9  I'm waitin' for you baby  \\nI'm sitting all al...  "
      ]
     },
     "execution_count": 6,
     "metadata": {},
     "output_type": "execute_result"
    }
   ],
   "source": [
    "df.head(10)"
   ]
  },
  {
   "cell_type": "code",
   "execution_count": 7,
   "id": "55103aa9",
   "metadata": {},
   "outputs": [
    {
     "data": {
      "text/plain": [
       "(57650, 4)"
      ]
     },
     "execution_count": 7,
     "metadata": {},
     "output_type": "execute_result"
    }
   ],
   "source": [
    "df.shape"
   ]
  },
  {
   "cell_type": "code",
   "execution_count": 8,
   "id": "c2b42262",
   "metadata": {},
   "outputs": [],
   "source": [
    "df=df.sample(n=5000).drop('link',axis=1).reset_index(drop=True)"
   ]
  },
  {
   "cell_type": "code",
   "execution_count": 9,
   "id": "42bc387c",
   "metadata": {},
   "outputs": [
    {
     "data": {
      "text/html": [
       "<div>\n",
       "<style scoped>\n",
       "    .dataframe tbody tr th:only-of-type {\n",
       "        vertical-align: middle;\n",
       "    }\n",
       "\n",
       "    .dataframe tbody tr th {\n",
       "        vertical-align: top;\n",
       "    }\n",
       "\n",
       "    .dataframe thead th {\n",
       "        text-align: right;\n",
       "    }\n",
       "</style>\n",
       "<table border=\"1\" class=\"dataframe\">\n",
       "  <thead>\n",
       "    <tr style=\"text-align: right;\">\n",
       "      <th></th>\n",
       "      <th>artist</th>\n",
       "      <th>song</th>\n",
       "      <th>text</th>\n",
       "    </tr>\n",
       "  </thead>\n",
       "  <tbody>\n",
       "    <tr>\n",
       "      <th>0</th>\n",
       "      <td>Snoop Dogg</td>\n",
       "      <td>Deez Hollywood Nights</td>\n",
       "      <td>[Chorus: x2]  \\nThose Hollywood nights  \\nThey...</td>\n",
       "    </tr>\n",
       "    <tr>\n",
       "      <th>1</th>\n",
       "      <td>Nicki Minaj</td>\n",
       "      <td>Finale</td>\n",
       "      <td>[Nicki Minaj]  \\n  \\nI'm in that cotton pink b...</td>\n",
       "    </tr>\n",
       "    <tr>\n",
       "      <th>2</th>\n",
       "      <td>Ne-Yo</td>\n",
       "      <td>Same</td>\n",
       "      <td>(Verse)  \\nShe be playin me music  \\nThat I do...</td>\n",
       "    </tr>\n",
       "    <tr>\n",
       "      <th>3</th>\n",
       "      <td>Unearth</td>\n",
       "      <td>Convictions</td>\n",
       "      <td>Convictions.  \\nLost direction.  \\nOnce a fiel...</td>\n",
       "    </tr>\n",
       "    <tr>\n",
       "      <th>4</th>\n",
       "      <td>Nitty Gritty Dirt Band</td>\n",
       "      <td>Leigh Anne</td>\n",
       "      <td>Leigh Anne  \\nLeigh Anne  \\nI don't want to ne...</td>\n",
       "    </tr>\n",
       "    <tr>\n",
       "      <th>...</th>\n",
       "      <td>...</td>\n",
       "      <td>...</td>\n",
       "      <td>...</td>\n",
       "    </tr>\n",
       "    <tr>\n",
       "      <th>4995</th>\n",
       "      <td>Poison</td>\n",
       "      <td>Blame It On You</td>\n",
       "      <td>She's got pizazz  \\nLike a razzmatazz  \\nI'd l...</td>\n",
       "    </tr>\n",
       "    <tr>\n",
       "      <th>4996</th>\n",
       "      <td>Eminem</td>\n",
       "      <td>Above The Law</td>\n",
       "      <td>[Intro:]  \\nThe poor stay poor, the rich get r...</td>\n",
       "    </tr>\n",
       "    <tr>\n",
       "      <th>4997</th>\n",
       "      <td>Ziggy Marley</td>\n",
       "      <td>Head Top</td>\n",
       "      <td>The session is nice, feel real good  \\nThe set...</td>\n",
       "    </tr>\n",
       "    <tr>\n",
       "      <th>4998</th>\n",
       "      <td>The Beatles</td>\n",
       "      <td>Another Girl</td>\n",
       "      <td>For I have got another girl, another girl  \\nY...</td>\n",
       "    </tr>\n",
       "    <tr>\n",
       "      <th>4999</th>\n",
       "      <td>NOFX</td>\n",
       "      <td>Punk Guy</td>\n",
       "      <td>Crazier than GG, yet more PC than Ian  \\nGot c...</td>\n",
       "    </tr>\n",
       "  </tbody>\n",
       "</table>\n",
       "<p>5000 rows × 3 columns</p>\n",
       "</div>"
      ],
      "text/plain": [
       "                      artist                   song  \\\n",
       "0                 Snoop Dogg  Deez Hollywood Nights   \n",
       "1                Nicki Minaj                 Finale   \n",
       "2                      Ne-Yo                   Same   \n",
       "3                    Unearth            Convictions   \n",
       "4     Nitty Gritty Dirt Band             Leigh Anne   \n",
       "...                      ...                    ...   \n",
       "4995                  Poison        Blame It On You   \n",
       "4996                  Eminem          Above The Law   \n",
       "4997            Ziggy Marley               Head Top   \n",
       "4998             The Beatles           Another Girl   \n",
       "4999                    NOFX               Punk Guy   \n",
       "\n",
       "                                                   text  \n",
       "0     [Chorus: x2]  \\nThose Hollywood nights  \\nThey...  \n",
       "1     [Nicki Minaj]  \\n  \\nI'm in that cotton pink b...  \n",
       "2     (Verse)  \\nShe be playin me music  \\nThat I do...  \n",
       "3     Convictions.  \\nLost direction.  \\nOnce a fiel...  \n",
       "4     Leigh Anne  \\nLeigh Anne  \\nI don't want to ne...  \n",
       "...                                                 ...  \n",
       "4995  She's got pizazz  \\nLike a razzmatazz  \\nI'd l...  \n",
       "4996  [Intro:]  \\nThe poor stay poor, the rich get r...  \n",
       "4997  The session is nice, feel real good  \\nThe set...  \n",
       "4998  For I have got another girl, another girl  \\nY...  \n",
       "4999  Crazier than GG, yet more PC than Ian  \\nGot c...  \n",
       "\n",
       "[5000 rows x 3 columns]"
      ]
     },
     "execution_count": 9,
     "metadata": {},
     "output_type": "execute_result"
    }
   ],
   "source": [
    "df"
   ]
  },
  {
   "cell_type": "markdown",
   "id": "cbed6d09",
   "metadata": {},
   "source": [
    "# Data Cleaning"
   ]
  },
  {
   "cell_type": "code",
   "execution_count": 10,
   "id": "b90aff88",
   "metadata": {},
   "outputs": [
    {
     "data": {
      "text/plain": [
       "'Deez Hollywood Nights'"
      ]
     },
     "execution_count": 10,
     "metadata": {},
     "output_type": "execute_result"
    }
   ],
   "source": [
    "df['song'][0]"
   ]
  },
  {
   "cell_type": "code",
   "execution_count": 11,
   "id": "a41182ff",
   "metadata": {},
   "outputs": [
    {
     "data": {
      "text/plain": [
       "'[Chorus: x2]  \\nThose Hollywood nights  \\nThey drive me crazy  \\nThose Hollywood nights  \\nThey drive me crazy  \\n  \\n[Snoop Dogg]  \\nHuh, it\\'s like that that there  \\nThey love it when I let down my hair  \\nFrom Jessica Alba to Jessica Simpson  \\nEven Jessica Biel wanna know how I feel  \\nSo I let \\'em all come to my back table  \\nRoll up and lick the paper if they able  \\nBottles of everything, models and everything  \\nEverything goes and yes I mean everything  \\nCocaine castles, I ain\\'t sniffin\\'  \\nBut baby that plate in that one movie is trippin\\'  \\nSo, I invite her over to my party  \\nBlonde hair, long legs, a real live Barbie  \\nNo autographs, I ain\\'t signin\\' now  \\nAct like you been around a boss, bitch settle down  \\nMy life is like one big highlight  \\nWelcome to the motherfuckin\\' Hollywood night life  \\n  \\n[Chorus: x2]  \\n  \\n[Snoop Dogg]  \\nEvery night I\\'m in the limo, Excursion  \\nWith some whites, some asians and persians  \\nThey flirtin\\', and I\\'m certain they suckin\\'  \\nOne night with the Dogg and it\\'s curtains  \\nShe say she wanna be an actress  \\nSo I pointed to these nuts and then I yelled action!  \\nTake one, take two, now cut  \\nNow turn around, and let the homie Damani fuck  \\nHuh, yeah, here we go again  \\nI gotta go behind the club just to get in  \\nThey say I\\'m just too much commotion  \\nAll the yellin\\' and screamin\\' and pushin\\', oh yes I got \\'em open  \\nI\\'m in the back of the club gettin\\' a backrub  \\nSmokin\\' with one of the Marley\\'s, \"One Love\"  \\nI\\'m higher than gas, refusin\\' to pass  \\nHollywood Night School my nigga join my class, c\\'mon  \\n  \\n[Chorus: x2]  \\n  \\n[Snoop Dogg]  \\nMeet me at the Roosevelt, bass cabana room  \\nI\\'m on Sunset (where you at?) at The House of Blues  \\nI just stepped in for a quick cameo  \\nMe and Leonardo DiCaprio  \\nHe keep a bad hoe, I keep a bad hoe  \\nHe slide me new hoes everywhere we go  \\nOh the life, night after night, flight after flight  \\nYes, these Hollywood nights  \\nWill have a nigga burnt out, some hoes turned out  \\nYou know it\\'s pimpin\\' when you see the Dogg permed out  \\nCameras flashin\\', police passin\\'  \\nEvery little model wanna give me some action  \\nSo I let \\'em kick it, then I let \\'em lick it  \\nGet some menage, durin\\' every visit  \\nI wouldn\\'t leave it, even if they paid me  \\nThe L.B. raised me and Hollywood is crazy  \\n  \\n[Chorus: x2]\\n\\n'"
      ]
     },
     "execution_count": 11,
     "metadata": {},
     "output_type": "execute_result"
    }
   ],
   "source": [
    "df['text'][0]"
   ]
  },
  {
   "cell_type": "code",
   "execution_count": 12,
   "id": "bd147933",
   "metadata": {},
   "outputs": [
    {
     "data": {
      "text/plain": [
       "0       [chorus: x2]  \\nthose hollywood nights  \\nthey...\n",
       "1       [nicki minaj]  \\n  \\ni'm in that cotton pink b...\n",
       "2       (verse)  \\nshe be playin me music  \\nthat i do...\n",
       "3       convictions.  \\nlost direction.  \\nonce a fiel...\n",
       "4       leigh anne  \\nleigh anne  \\ni don't want to ne...\n",
       "                              ...                        \n",
       "4995    she's got pizazz  \\nlike a razzmatazz  \\ni'd l...\n",
       "4996    [intro:]  \\nthe poor stay poor, the rich get r...\n",
       "4997    the session is nice, feel real good  \\nthe set...\n",
       "4998    for i have got another girl, another girl  \\ny...\n",
       "4999    crazier than gg, yet more pc than ian  \\ngot c...\n",
       "Name: text, Length: 5000, dtype: object"
      ]
     },
     "execution_count": 12,
     "metadata": {},
     "output_type": "execute_result"
    }
   ],
   "source": [
    "df['text'].str.lower()"
   ]
  },
  {
   "cell_type": "code",
   "execution_count": 13,
   "id": "0cdb781f",
   "metadata": {},
   "outputs": [
    {
     "data": {
      "text/plain": [
       "0       [chorus: x2]   those hollywood nights   they d...\n",
       "1       [nicki minaj]      i'm in that cotton pink ben...\n",
       "2       (verse)   she be playin me music   that i don'...\n",
       "3       convictions.   lost direction.   once a fielde...\n",
       "4       leigh anne   leigh anne   i don't want to need...\n",
       "                              ...                        \n",
       "4995    she's got pizazz   like a razzmatazz   i'd lik...\n",
       "4996    [intro:]   the poor stay poor, the rich get ri...\n",
       "4997    the session is nice, feel real good   the set ...\n",
       "4998    for i have got another girl, another girl   yo...\n",
       "4999    crazier than gg, yet more pc than ian   got co...\n",
       "Name: text, Length: 5000, dtype: object"
      ]
     },
     "execution_count": 13,
     "metadata": {},
     "output_type": "execute_result"
    }
   ],
   "source": [
    "df['text'] = df['text'].str.lower().replace(r'[^\\w\\s]','').replace(r'\\n',' ', regex=True)\n",
    "df['text']"
   ]
  },
  {
   "cell_type": "code",
   "execution_count": 14,
   "id": "9dea0d3a",
   "metadata": {},
   "outputs": [],
   "source": [
    "import nltk\n",
    "from nltk.stem.porter import PorterStemmer\n",
    "stemmer=PorterStemmer()\n",
    "\n",
    "def tokenization(txt):\n",
    "    tokens=nltk.word_tokenize(txt)\n",
    "    stemming=[stemmer.stem(w) for w in tokens]\n",
    "    return \" \".join(stemming)"
   ]
  },
  {
   "cell_type": "code",
   "execution_count": 15,
   "id": "8b4dfa94",
   "metadata": {},
   "outputs": [],
   "source": [
    "df['text'] = df['text'].apply(lambda x: tokenization(x))"
   ]
  },
  {
   "cell_type": "code",
   "execution_count": 16,
   "id": "160b3bdb",
   "metadata": {},
   "outputs": [],
   "source": [
    "from sklearn.feature_extraction.text import TfidfVectorizer\n",
    "from sklearn.metrics.pairwise import cosine_similarity"
   ]
  },
  {
   "cell_type": "code",
   "execution_count": 17,
   "id": "cc08a08a",
   "metadata": {},
   "outputs": [],
   "source": [
    "tfidvector = TfidfVectorizer(analyzer='word',stop_words='english')\n",
    "matrix = tfidvector.fit_transform(df['text'])\n",
    "similarity = cosine_similarity(matrix)"
   ]
  },
  {
   "cell_type": "code",
   "execution_count": 18,
   "id": "9c937954",
   "metadata": {},
   "outputs": [
    {
     "data": {
      "text/plain": [
       "array([1.        , 0.04121678, 0.10283383, ..., 0.02669667, 0.02349161,\n",
       "       0.0426098 ])"
      ]
     },
     "execution_count": 18,
     "metadata": {},
     "output_type": "execute_result"
    }
   ],
   "source": [
    "similarity[0]"
   ]
  },
  {
   "cell_type": "code",
   "execution_count": 27,
   "id": "2f87dcba",
   "metadata": {},
   "outputs": [
    {
     "data": {
      "text/plain": [
       "'Finale'"
      ]
     },
     "execution_count": 27,
     "metadata": {},
     "output_type": "execute_result"
    }
   ],
   "source": [
    "df['song'][1]"
   ]
  },
  {
   "cell_type": "code",
   "execution_count": 25,
   "id": "03c03d75",
   "metadata": {},
   "outputs": [
    {
     "data": {
      "text/html": [
       "<div>\n",
       "<style scoped>\n",
       "    .dataframe tbody tr th:only-of-type {\n",
       "        vertical-align: middle;\n",
       "    }\n",
       "\n",
       "    .dataframe tbody tr th {\n",
       "        vertical-align: top;\n",
       "    }\n",
       "\n",
       "    .dataframe thead th {\n",
       "        text-align: right;\n",
       "    }\n",
       "</style>\n",
       "<table border=\"1\" class=\"dataframe\">\n",
       "  <thead>\n",
       "    <tr style=\"text-align: right;\">\n",
       "      <th></th>\n",
       "      <th>artist</th>\n",
       "      <th>song</th>\n",
       "      <th>text</th>\n",
       "    </tr>\n",
       "  </thead>\n",
       "  <tbody>\n",
       "    <tr>\n",
       "      <th>0</th>\n",
       "      <td>Snoop Dogg</td>\n",
       "      <td>Deez Hollywood Nights</td>\n",
       "      <td>[ choru : x2 ] those hollywood night they driv...</td>\n",
       "    </tr>\n",
       "  </tbody>\n",
       "</table>\n",
       "</div>"
      ],
      "text/plain": [
       "       artist                   song  \\\n",
       "0  Snoop Dogg  Deez Hollywood Nights   \n",
       "\n",
       "                                                text  \n",
       "0  [ choru : x2 ] those hollywood night they driv...  "
      ]
     },
     "execution_count": 25,
     "metadata": {},
     "output_type": "execute_result"
    }
   ],
   "source": [
    "df[df['song']=='Deez Hollywood Nights']"
   ]
  },
  {
   "cell_type": "markdown",
   "id": "404eb4e9",
   "metadata": {},
   "source": [
    "# Recommendation System"
   ]
  },
  {
   "cell_type": "code",
   "execution_count": 20,
   "id": "19ef6cce",
   "metadata": {},
   "outputs": [],
   "source": [
    "def recommendation(song_df):\n",
    "    idx = df[df['song'] == song_df].index[0]\n",
    "    distances = sorted(list(enumerate(similarity[idx])),reverse=True,key=lambda x:x[1])\n",
    "    \n",
    "    songs = []\n",
    "    for m_id in distances[1:21]:\n",
    "        songs.append(df.iloc[m_id[0]].song)\n",
    "        \n",
    "    return songs"
   ]
  },
  {
   "cell_type": "code",
   "execution_count": 28,
   "id": "f180a4a0",
   "metadata": {},
   "outputs": [
    {
     "data": {
      "text/plain": [
       "[\"Don't Make 'Em Like You\",\n",
       " 'Never Will Give Up',\n",
       " 'Deal With The Ladies',\n",
       " \"Could 'Ja\",\n",
       " 'Santa Baby',\n",
       " 'Cinderella',\n",
       " \"All You've Got Is Money\",\n",
       " 'White Lie',\n",
       " 'S.I.N.',\n",
       " 'Hard Lemonade',\n",
       " 'Pour It Up',\n",
       " \"If You Can't Beat Them\",\n",
       " 'Walk In New York',\n",
       " 'The Horny Song',\n",
       " 'Can I Have It Like That',\n",
       " 'Do It To Ya',\n",
       " 'Little White Lies',\n",
       " \"Havin' A Ball\",\n",
       " 'Hand Springs',\n",
       " 'High Flyer']"
      ]
     },
     "execution_count": 28,
     "metadata": {},
     "output_type": "execute_result"
    }
   ],
   "source": [
    "recommendation('Finale')"
   ]
  },
  {
   "cell_type": "code",
   "execution_count": 29,
   "id": "8de9566b",
   "metadata": {},
   "outputs": [],
   "source": [
    "import pickle\n",
    "pickle.dump(similarity,open('similarity.pkl','wb'))\n",
    "pickle.dump(df,open('df.pkl','wb'))"
   ]
  }
 ],
 "metadata": {
  "kernelspec": {
   "display_name": "Python 3 (ipykernel)",
   "language": "python",
   "name": "python3"
  },
  "language_info": {
   "codemirror_mode": {
    "name": "ipython",
    "version": 3
   },
   "file_extension": ".py",
   "mimetype": "text/x-python",
   "name": "python",
   "nbconvert_exporter": "python",
   "pygments_lexer": "ipython3",
   "version": "3.11.5"
  }
 },
 "nbformat": 4,
 "nbformat_minor": 5
}
